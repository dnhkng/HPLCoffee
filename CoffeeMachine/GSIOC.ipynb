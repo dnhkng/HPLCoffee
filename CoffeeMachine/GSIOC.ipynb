{
 "cells": [
  {
   "cell_type": "code",
   "execution_count": 3,
   "metadata": {
    "collapsed": true
   },
   "outputs": [],
   "source": [
    "# gsioc defines a class used for controlling gsioc devices\n",
    "# ID is an integer\n",
    "# immediate commands are an ascii string\n",
    "# buffered commands are an ascii string\n",
    "\n",
    "import datetime, time\n",
    "import serial\n",
    "import binascii\n",
    "\n",
    "class gsioc:\n",
    "    def __init__(self,serial=None):\n",
    "        self.serial = serial\n",
    "\n",
    "    def createSerial(self,port=0,timeout=0.1):\n",
    "        self.port = port\n",
    "        self.timeout = timeout\n",
    "        # Initiate serial connection\n",
    "        s = serial.Serial(port)\n",
    "        #s = serial.serial_for_url(\"loop://\")  # loop for testing\n",
    "        s.baudrate = 9600\n",
    "        s.bytesize = 8\n",
    "        s.parity = serial.PARITY_NONE\n",
    "        s.stopbits = 1\n",
    "        s.timeout = timeout\n",
    "        self.serial = s\n",
    "        try :\n",
    "            s.open()\n",
    "            print(s)\n",
    "        except :\n",
    "            print(s)\n",
    "\n",
    "    def closeSerial(self):\n",
    "        self.serial.close()\n",
    "\n",
    "    def connect(self,ID=0):\n",
    "        if( int(ID) not in range(64) ):\n",
    "            raise Exception(\"ID out of range [0,63]\")\n",
    "        ID += 128\n",
    "        s = self.serial\n",
    "        s.flushInput()\n",
    "        s.write(bytes.fromhex('ff'))\n",
    "        time.sleep(self.timeout)   # Passively wait for all devices to disconnect\n",
    "        s.write(ID.to_bytes(1,byteorder='big'))\n",
    "        resp = s.read(1)    # Will raise serialTimoutException after timeout\n",
    "        print(str(datetime.datetime.now()) + \" -- Connected to device \", ID-128)\n",
    "\n",
    "    # returns byte array\n",
    "    # Use str(resp,'ascii') or resp.decode('ascii') to get ascii string\n",
    "    def iCommand(self,commandstring):\n",
    "        command = binascii.a2b_qp(commandstring)\n",
    "        if(command[0] not in range(0,255)):     # Change this to correct range\n",
    "            raise Exception(\"Command out of range\")\n",
    "        s = self.serial\n",
    "        s.flushInput()\n",
    "        s.write(command[0:1])\n",
    "        resp = bytearray(0)\n",
    "        while(True):\n",
    "            resp.append(s.read(1)[0])\n",
    "            if(resp[len(resp)-1] > 127):\n",
    "                resp[len(resp)-1] -= 128\n",
    "                # print(str(datetime.datetime.now()) + \" -- Immediate response complete\")\n",
    "                break\n",
    "            else:\n",
    "                s.write(bytes.fromhex(\"06\"))\n",
    "        return resp.decode(\"ascii\")\n",
    "\n",
    "    def bCommand(self,commandstring):\n",
    "        data = binascii.a2b_qp(\"\\n\" + commandstring + \"\\r\")\n",
    "        s = self.serial\n",
    "        s.flushInput()\n",
    "        resp = bytearray(0)\n",
    "\n",
    "        # begin buffered command by sending \\n until the device echos \\n or times out\n",
    "        firstErrorPrinted = False # This is used to prevent repetitive printing \n",
    "        # begin loop\n",
    "        while(True):\n",
    "            s.write(data[0:1])    # send line feed\n",
    "            readySig = s.read(1)[0]\n",
    "            if(readySig == 10):\n",
    "                print(str(datetime.datetime.now()) + \" -- Starting Buffered command\")\n",
    "                break\n",
    "            elif(readySig == 35):\n",
    "                if(not firstErrorPrinted):\n",
    "                    print(\"Device busy. Waiting...\")\n",
    "                    firstErrorPrinted = True\n",
    "            else:\n",
    "                raise Exception(\"Did not recieve \\\\n (0x0A) or # as response\")\n",
    "        resp.append(readySig)\n",
    "\n",
    "        # Send buffered data\n",
    "        for i in range(1,len(data)):\n",
    "            s.write(data[i:i+1])\n",
    "            resp.append(s.read(1)[0])\n",
    "            if( resp[i] != data[i] ):\n",
    "                raise Exception(\"Recieved \" + str(resp,'ascii') + \" instead of \" + str(data[i:i+1]))\n",
    "            if( resp[i] == 13 ):\n",
    "                print(str(datetime.datetime.now()) + \" -- Buffered command complete\")\n",
    "                return resp\n",
    "\n",
    "        # This will happen if sending the data failed\n",
    "        print(str(datetime.datetime.now()) + \" -- Buffered command FAILED\")\n",
    "        resp_no_whitespace = resp[1:len(resp)-2]\n",
    "        return resp_no_whitespace.decode(\"ascii\")\n"
   ]
  },
  {
   "cell_type": "code",
   "execution_count": 4,
   "metadata": {
    "collapsed": true
   },
   "outputs": [],
   "source": [
    "import time"
   ]
  },
  {
   "cell_type": "code",
   "execution_count": 5,
   "metadata": {
    "collapsed": true
   },
   "outputs": [],
   "source": [
    "connection_string = 'W7= Edit        Manual   Run               '"
   ]
  },
  {
   "cell_type": "code",
   "execution_count": 7,
   "metadata": {},
   "outputs": [
    {
     "name": "stdout",
     "output_type": "stream",
     "text": [
      "Serial<id=0x222d3b6cc50, open=True>(port='COM29', baudrate=9600, bytesize=8, parity='N', stopbits=1, timeout=0.1, xonxoff=False, rtscts=False, dsrdtr=False)\n"
     ]
    }
   ],
   "source": [
    "h = gsioc()\n",
    "h.createSerial(port='COM29',timeout=0.1)"
   ]
  },
  {
   "cell_type": "code",
   "execution_count": 8,
   "metadata": {
    "scrolled": false
   },
   "outputs": [
    {
     "name": "stdout",
     "output_type": "stream",
     "text": [
      "2017-12-06 10:21:56.909254 -- Connected to device  4\n"
     ]
    }
   ],
   "source": [
    "h.connect(ID=4)"
   ]
  },
  {
   "cell_type": "code",
   "execution_count": 386,
   "metadata": {
    "collapsed": true
   },
   "outputs": [],
   "source": [
    "# check if we started up correctly\n",
    "def checkConnection():\n",
    "    display = []\n",
    "    is_connected = False\n",
    "    for i in range(9):\n",
    "        if h.iCommand(\"w\") == connection_string:\n",
    "            is_connected = True\n",
    "            break\n",
    "    return is_connected         \n",
    "        "
   ]
  },
  {
   "cell_type": "code",
   "execution_count": 387,
   "metadata": {
    "collapsed": true
   },
   "outputs": [],
   "source": [
    "connected = checkConnection()"
   ]
  },
  {
   "cell_type": "code",
   "execution_count": 388,
   "metadata": {},
   "outputs": [
    {
     "data": {
      "text/plain": [
       "True"
      ]
     },
     "execution_count": 388,
     "metadata": {},
     "output_type": "execute_result"
    }
   ],
   "source": [
    "connected"
   ]
  },
  {
   "cell_type": "code",
   "execution_count": 278,
   "metadata": {},
   "outputs": [
    {
     "name": "stdout",
     "output_type": "stream",
     "text": [
      "2017-11-29 17:40:27.729309 -- Starting Buffered command\n",
      "2017-11-29 17:40:27.779411 -- Buffered command complete\n",
      "2017-11-29 17:40:27.895812 -- Starting Buffered command\n",
      "2017-11-29 17:40:27.950596 -- Buffered command complete\n",
      "2017-11-29 17:40:28.077238 -- Starting Buffered command\n",
      "2017-11-29 17:40:28.115122 -- Buffered command complete\n"
     ]
    },
    {
     "data": {
      "text/plain": [
       "bytearray(b'\\nK=a|\\r')"
      ]
     },
     "execution_count": 278,
     "metadata": {},
     "output_type": "execute_result"
    }
   ],
   "source": [
    "# start priming\n",
    "h.bCommand(\"K=c|\")\n",
    "time.sleep(0.1)\n",
    "h.bCommand(\"K=c|\")\n",
    "time.sleep(0.1)\n",
    "h.bCommand(\"K=a|\")"
   ]
  },
  {
   "cell_type": "code",
   "execution_count": 279,
   "metadata": {},
   "outputs": [
    {
     "name": "stdout",
     "output_type": "stream",
     "text": [
      "2017-11-29 17:40:33.216217 -- Starting Buffered command\n",
      "2017-11-29 17:40:33.265422 -- Buffered command complete\n",
      "2017-11-29 17:40:33.477853 -- Starting Buffered command\n",
      "2017-11-29 17:40:33.521452 -- Buffered command complete\n",
      "2017-11-29 17:40:33.732115 -- Starting Buffered command\n",
      "2017-11-29 17:40:33.784661 -- Buffered command complete\n",
      "2017-11-29 17:40:33.993786 -- Starting Buffered command\n",
      "2017-11-29 17:40:34.006988 -- Buffered command complete\n"
     ]
    },
    {
     "data": {
      "text/plain": [
       "bytearray(b'\\nK\\r')"
      ]
     },
     "execution_count": 279,
     "metadata": {},
     "output_type": "execute_result"
    }
   ],
   "source": [
    "# stop priming\n",
    "h.bCommand(\"K=a|\")\n",
    "time.sleep(0.2)\n",
    "h.bCommand(\"K=X|\")\n",
    "time.sleep(0.2)\n",
    "h.bCommand(\"K=X|\")\n",
    "time.sleep(0.2)\n",
    "h.bCommand(\"K\")"
   ]
  },
  {
   "cell_type": "code",
   "execution_count": 389,
   "metadata": {
    "collapsed": true
   },
   "outputs": [],
   "source": [
    "flow_rate = 2.0"
   ]
  },
  {
   "cell_type": "code",
   "execution_count": 390,
   "metadata": {},
   "outputs": [
    {
     "name": "stdout",
     "output_type": "stream",
     "text": [
      "2017-11-30 16:27:42.740213 -- Starting Buffered command\n",
      "2017-11-30 16:27:42.790861 -- Buffered command complete\n",
      "2017-11-30 16:27:42.900884 -- Starting Buffered command\n",
      "2017-11-30 16:27:42.951486 -- Buffered command complete\n",
      "2017-11-30 16:27:43.062324 -- Starting Buffered command\n",
      "2017-11-30 16:27:43.111690 -- Buffered command complete\n",
      "2017-11-30 16:27:43.222625 -- Starting Buffered command\n",
      "2017-11-30 16:27:43.272613 -- Buffered command complete\n",
      "2017-11-30 16:27:43.382728 -- Starting Buffered command\n",
      "2017-11-30 16:27:43.431951 -- Buffered command complete\n",
      "2017-11-30 16:27:43.542220 -- Starting Buffered command\n",
      "2017-11-30 16:27:43.591980 -- Buffered command complete\n",
      "2017-11-30 16:27:43.702674 -- Starting Buffered command\n",
      "2017-11-30 16:27:43.751905 -- Buffered command complete\n",
      "2017-11-30 16:27:43.862737 -- Starting Buffered command\n",
      "2017-11-30 16:27:43.913015 -- Buffered command complete\n",
      "2017-11-30 16:27:44.024866 -- Starting Buffered command\n",
      "2017-11-30 16:27:44.075861 -- Buffered command complete\n"
     ]
    },
    {
     "data": {
      "text/plain": [
       "bytearray(b'\\nK=d|\\r')"
      ]
     },
     "execution_count": 390,
     "metadata": {},
     "output_type": "execute_result"
    }
   ],
   "source": [
    "# start pumping\n",
    "h.bCommand(\"K=c|\")\n",
    "time.sleep(0.1)\n",
    "h.bCommand(\"K=a|\")\n",
    "time.sleep(0.1)\n",
    "h.bCommand(\"K=0|\")\n",
    "time.sleep(0.1)\n",
    "h.bCommand(\"K=E|\")\n",
    "time.sleep(0.1)\n",
    "for char in str(flow_rate):\n",
    "    h.bCommand(\"K=\" + char + \"|\")\n",
    "    time.sleep(0.1)\n",
    "h.bCommand(\"K=E|\")\n",
    "time.sleep(0.1)\n",
    "h.bCommand(\"K=d|\")"
   ]
  },
  {
   "cell_type": "code",
   "execution_count": 319,
   "metadata": {},
   "outputs": [
    {
     "name": "stdout",
     "output_type": "stream",
     "text": [
      "2017-11-29 17:48:36.496632 -- Starting Buffered command\n",
      "2017-11-29 17:48:36.547014 -- Buffered command complete\n",
      "2017-11-29 17:48:37.548405 -- Starting Buffered command\n",
      "2017-11-29 17:48:37.601728 -- Buffered command complete\n",
      "2017-11-29 17:48:38.107861 -- Starting Buffered command\n",
      "2017-11-29 17:48:38.154671 -- Buffered command complete\n",
      "2017-11-29 17:48:38.364962 -- Starting Buffered command\n",
      "2017-11-29 17:48:38.385722 -- Buffered command complete\n"
     ]
    },
    {
     "data": {
      "text/plain": [
       "bytearray(b'\\nK\\r')"
      ]
     },
     "execution_count": 319,
     "metadata": {},
     "output_type": "execute_result"
    }
   ],
   "source": [
    "# stop pumping\n",
    "h.bCommand(\"K=e|\")\n",
    "time.sleep(1)\n",
    "h.bCommand(\"K=X|\")\n",
    "time.sleep(0.5)\n",
    "h.bCommand(\"K=X|\")\n",
    "time.sleep(0.2)\n",
    "h.bCommand(\"K\")"
   ]
  },
  {
   "cell_type": "code",
   "execution_count": 329,
   "metadata": {},
   "outputs": [
    {
     "name": "stdout",
     "output_type": "stream",
     "text": [
      "2017-11-29 17:52:47.713025 -- Starting Buffered command\n"
     ]
    },
    {
     "ename": "IndexError",
     "evalue": "index out of range",
     "output_type": "error",
     "traceback": [
      "\u001b[1;31m---------------------------------------------------------------------------\u001b[0m",
      "\u001b[1;31mIndexError\u001b[0m                                Traceback (most recent call last)",
      "\u001b[1;32m<ipython-input-329-a7e802dc09dd>\u001b[0m in \u001b[0;36m<module>\u001b[1;34m()\u001b[0m\n\u001b[0;32m      1\u001b[0m \u001b[1;31m# start pumping\u001b[0m\u001b[1;33m\u001b[0m\u001b[1;33m\u001b[0m\u001b[0m\n\u001b[1;32m----> 2\u001b[1;33m \u001b[0mh\u001b[0m\u001b[1;33m.\u001b[0m\u001b[0mbCommand\u001b[0m\u001b[1;33m(\u001b[0m\u001b[1;34m\"K=ca0E|\"\u001b[0m\u001b[1;33m)\u001b[0m\u001b[1;33m\u001b[0m\u001b[0m\n\u001b[0m",
      "\u001b[1;32m<ipython-input-117-bef09dfe2295>\u001b[0m in \u001b[0;36mbCommand\u001b[1;34m(self, commandstring)\u001b[0m\n\u001b[0;32m     91\u001b[0m         \u001b[1;32mfor\u001b[0m \u001b[0mi\u001b[0m \u001b[1;32min\u001b[0m \u001b[0mrange\u001b[0m\u001b[1;33m(\u001b[0m\u001b[1;36m1\u001b[0m\u001b[1;33m,\u001b[0m\u001b[0mlen\u001b[0m\u001b[1;33m(\u001b[0m\u001b[0mdata\u001b[0m\u001b[1;33m)\u001b[0m\u001b[1;33m)\u001b[0m\u001b[1;33m:\u001b[0m\u001b[1;33m\u001b[0m\u001b[0m\n\u001b[0;32m     92\u001b[0m             \u001b[0ms\u001b[0m\u001b[1;33m.\u001b[0m\u001b[0mwrite\u001b[0m\u001b[1;33m(\u001b[0m\u001b[0mdata\u001b[0m\u001b[1;33m[\u001b[0m\u001b[0mi\u001b[0m\u001b[1;33m:\u001b[0m\u001b[0mi\u001b[0m\u001b[1;33m+\u001b[0m\u001b[1;36m1\u001b[0m\u001b[1;33m]\u001b[0m\u001b[1;33m)\u001b[0m\u001b[1;33m\u001b[0m\u001b[0m\n\u001b[1;32m---> 93\u001b[1;33m             \u001b[0mresp\u001b[0m\u001b[1;33m.\u001b[0m\u001b[0mappend\u001b[0m\u001b[1;33m(\u001b[0m\u001b[0ms\u001b[0m\u001b[1;33m.\u001b[0m\u001b[0mread\u001b[0m\u001b[1;33m(\u001b[0m\u001b[1;36m1\u001b[0m\u001b[1;33m)\u001b[0m\u001b[1;33m[\u001b[0m\u001b[1;36m0\u001b[0m\u001b[1;33m]\u001b[0m\u001b[1;33m)\u001b[0m\u001b[1;33m\u001b[0m\u001b[0m\n\u001b[0m\u001b[0;32m     94\u001b[0m             \u001b[1;32mif\u001b[0m\u001b[1;33m(\u001b[0m \u001b[0mresp\u001b[0m\u001b[1;33m[\u001b[0m\u001b[0mi\u001b[0m\u001b[1;33m]\u001b[0m \u001b[1;33m!=\u001b[0m \u001b[0mdata\u001b[0m\u001b[1;33m[\u001b[0m\u001b[0mi\u001b[0m\u001b[1;33m]\u001b[0m \u001b[1;33m)\u001b[0m\u001b[1;33m:\u001b[0m\u001b[1;33m\u001b[0m\u001b[0m\n\u001b[0;32m     95\u001b[0m                 \u001b[1;32mraise\u001b[0m \u001b[0mException\u001b[0m\u001b[1;33m(\u001b[0m\u001b[1;34m\"Recieved \"\u001b[0m \u001b[1;33m+\u001b[0m \u001b[0mstr\u001b[0m\u001b[1;33m(\u001b[0m\u001b[0mresp\u001b[0m\u001b[1;33m,\u001b[0m\u001b[1;34m'ascii'\u001b[0m\u001b[1;33m)\u001b[0m \u001b[1;33m+\u001b[0m \u001b[1;34m\" instead of \"\u001b[0m \u001b[1;33m+\u001b[0m \u001b[0mstr\u001b[0m\u001b[1;33m(\u001b[0m\u001b[0mdata\u001b[0m\u001b[1;33m[\u001b[0m\u001b[0mi\u001b[0m\u001b[1;33m:\u001b[0m\u001b[0mi\u001b[0m\u001b[1;33m+\u001b[0m\u001b[1;36m1\u001b[0m\u001b[1;33m]\u001b[0m\u001b[1;33m)\u001b[0m\u001b[1;33m)\u001b[0m\u001b[1;33m\u001b[0m\u001b[0m\n",
      "\u001b[1;31mIndexError\u001b[0m: index out of range"
     ]
    }
   ],
   "source": [
    "# start pumping\n",
    "h.bCommand(\"K=ca0E|\")\n"
   ]
  },
  {
   "cell_type": "code",
   "execution_count": 323,
   "metadata": {},
   "outputs": [
    {
     "ename": "IndexError",
     "evalue": "index out of range",
     "output_type": "error",
     "traceback": [
      "\u001b[1;31m---------------------------------------------------------------------------\u001b[0m",
      "\u001b[1;31mIndexError\u001b[0m                                Traceback (most recent call last)",
      "\u001b[1;32m<ipython-input-323-002686e9391a>\u001b[0m in \u001b[0;36m<module>\u001b[1;34m()\u001b[0m\n\u001b[1;32m----> 1\u001b[1;33m \u001b[0mh\u001b[0m\u001b[1;33m.\u001b[0m\u001b[0mbCommand\u001b[0m\u001b[1;33m(\u001b[0m\u001b[1;34m\"K=e|\"\u001b[0m\u001b[1;33m)\u001b[0m\u001b[1;33m\u001b[0m\u001b[0m\n\u001b[0m",
      "\u001b[1;32m<ipython-input-117-bef09dfe2295>\u001b[0m in \u001b[0;36mbCommand\u001b[1;34m(self, commandstring)\u001b[0m\n\u001b[0;32m     76\u001b[0m         \u001b[1;32mwhile\u001b[0m\u001b[1;33m(\u001b[0m\u001b[1;32mTrue\u001b[0m\u001b[1;33m)\u001b[0m\u001b[1;33m:\u001b[0m\u001b[1;33m\u001b[0m\u001b[0m\n\u001b[0;32m     77\u001b[0m             \u001b[0ms\u001b[0m\u001b[1;33m.\u001b[0m\u001b[0mwrite\u001b[0m\u001b[1;33m(\u001b[0m\u001b[0mdata\u001b[0m\u001b[1;33m[\u001b[0m\u001b[1;36m0\u001b[0m\u001b[1;33m:\u001b[0m\u001b[1;36m1\u001b[0m\u001b[1;33m]\u001b[0m\u001b[1;33m)\u001b[0m    \u001b[1;31m# send line feed\u001b[0m\u001b[1;33m\u001b[0m\u001b[0m\n\u001b[1;32m---> 78\u001b[1;33m             \u001b[0mreadySig\u001b[0m \u001b[1;33m=\u001b[0m \u001b[0ms\u001b[0m\u001b[1;33m.\u001b[0m\u001b[0mread\u001b[0m\u001b[1;33m(\u001b[0m\u001b[1;36m1\u001b[0m\u001b[1;33m)\u001b[0m\u001b[1;33m[\u001b[0m\u001b[1;36m0\u001b[0m\u001b[1;33m]\u001b[0m\u001b[1;33m\u001b[0m\u001b[0m\n\u001b[0m\u001b[0;32m     79\u001b[0m             \u001b[1;32mif\u001b[0m\u001b[1;33m(\u001b[0m\u001b[0mreadySig\u001b[0m \u001b[1;33m==\u001b[0m \u001b[1;36m10\u001b[0m\u001b[1;33m)\u001b[0m\u001b[1;33m:\u001b[0m\u001b[1;33m\u001b[0m\u001b[0m\n\u001b[0;32m     80\u001b[0m                 \u001b[0mprint\u001b[0m\u001b[1;33m(\u001b[0m\u001b[0mstr\u001b[0m\u001b[1;33m(\u001b[0m\u001b[0mdatetime\u001b[0m\u001b[1;33m.\u001b[0m\u001b[0mdatetime\u001b[0m\u001b[1;33m.\u001b[0m\u001b[0mnow\u001b[0m\u001b[1;33m(\u001b[0m\u001b[1;33m)\u001b[0m\u001b[1;33m)\u001b[0m \u001b[1;33m+\u001b[0m \u001b[1;34m\" -- Starting Buffered command\"\u001b[0m\u001b[1;33m)\u001b[0m\u001b[1;33m\u001b[0m\u001b[0m\n",
      "\u001b[1;31mIndexError\u001b[0m: index out of range"
     ]
    }
   ],
   "source": [
    "h.bCommand(\"K=e|\")"
   ]
  },
  {
   "cell_type": "code",
   "execution_count": 301,
   "metadata": {},
   "outputs": [
    {
     "name": "stdout",
     "output_type": "stream",
     "text": [
      "2017-11-29 17:44:58.807035 -- Starting Buffered command\n",
      "2017-11-29 17:44:58.855575 -- Buffered command complete\n",
      "2017-11-29 17:44:58.892502 -- Starting Buffered command\n",
      "2017-11-29 17:44:58.941330 -- Buffered command complete\n",
      "2017-11-29 17:44:58.972587 -- Starting Buffered command\n",
      "2017-11-29 17:44:58.992664 -- Buffered command complete\n"
     ]
    },
    {
     "data": {
      "text/plain": [
       "bytearray(b'\\nK\\r')"
      ]
     },
     "execution_count": 301,
     "metadata": {},
     "output_type": "execute_result"
    }
   ],
   "source": [
    "h.bCommand(\"K=X|\")\n",
    "time.sleep(0.02)\n",
    "h.bCommand(\"K=X|\")\n",
    "time.sleep(0.02)\n",
    "h.bCommand(\"K\")"
   ]
  },
  {
   "cell_type": "code",
   "execution_count": 391,
   "metadata": {},
   "outputs": [
    {
     "name": "stdout",
     "output_type": "stream",
     "text": [
      "2017-11-30 16:29:32.552228 -- Starting Buffered command\n",
      "2017-11-30 16:29:32.571279 -- Buffered command complete\n"
     ]
    },
    {
     "data": {
      "text/plain": [
       "bytearray(b'\\nK\\r')"
      ]
     },
     "execution_count": 391,
     "metadata": {},
     "output_type": "execute_result"
    }
   ],
   "source": [
    "h.bCommand(\"K\")"
   ]
  },
  {
   "cell_type": "code",
   "execution_count": 303,
   "metadata": {},
   "outputs": [
    {
     "name": "stdout",
     "output_type": "stream",
     "text": [
      "2017-11-29 17:45:19.405758 -- Starting Buffered command\n",
      "2017-11-29 17:45:19.455931 -- Buffered command complete\n"
     ]
    }
   ],
   "source": [
    "h.bCommand(\"K=X|\")\n",
    "time.sleep(0.02)"
   ]
  },
  {
   "cell_type": "code",
   "execution_count": 89,
   "metadata": {},
   "outputs": [
    {
     "name": "stdout",
     "output_type": "stream",
     "text": [
      "2017-11-29 15:41:29.436503 -- Starting Buffered command\n",
      "2017-11-29 15:41:29.467052 -- Buffered command complete\n"
     ]
    },
    {
     "data": {
      "text/plain": [
       "bytearray(b'\\naN\\r')"
      ]
     },
     "execution_count": 89,
     "metadata": {},
     "output_type": "execute_result"
    }
   ],
   "source": [
    "# disconnect pump heads\n",
    "h.bCommand(\"aN\")"
   ]
  },
  {
   "cell_type": "code",
   "execution_count": 37,
   "metadata": {},
   "outputs": [
    {
     "ename": "IndexError",
     "evalue": "index out of range",
     "output_type": "error",
     "traceback": [
      "\u001b[1;31m---------------------------------------------------------------------------\u001b[0m",
      "\u001b[1;31mIndexError\u001b[0m                                Traceback (most recent call last)",
      "\u001b[1;32m<ipython-input-37-bdf4eb85aadc>\u001b[0m in \u001b[0;36m<module>\u001b[1;34m()\u001b[0m\n\u001b[1;32m----> 1\u001b[1;33m \u001b[0mh\u001b[0m\u001b[1;33m.\u001b[0m\u001b[0mbCommand\u001b[0m\u001b[1;33m(\u001b[0m\u001b[1;34m\"?R1\"\u001b[0m\u001b[1;33m)\u001b[0m\u001b[1;33m\u001b[0m\u001b[0m\n\u001b[0m",
      "\u001b[1;32m<ipython-input-3-bef09dfe2295>\u001b[0m in \u001b[0;36mbCommand\u001b[1;34m(self, commandstring)\u001b[0m\n\u001b[0;32m     76\u001b[0m         \u001b[1;32mwhile\u001b[0m\u001b[1;33m(\u001b[0m\u001b[1;32mTrue\u001b[0m\u001b[1;33m)\u001b[0m\u001b[1;33m:\u001b[0m\u001b[1;33m\u001b[0m\u001b[0m\n\u001b[0;32m     77\u001b[0m             \u001b[0ms\u001b[0m\u001b[1;33m.\u001b[0m\u001b[0mwrite\u001b[0m\u001b[1;33m(\u001b[0m\u001b[0mdata\u001b[0m\u001b[1;33m[\u001b[0m\u001b[1;36m0\u001b[0m\u001b[1;33m:\u001b[0m\u001b[1;36m1\u001b[0m\u001b[1;33m]\u001b[0m\u001b[1;33m)\u001b[0m    \u001b[1;31m# send line feed\u001b[0m\u001b[1;33m\u001b[0m\u001b[0m\n\u001b[1;32m---> 78\u001b[1;33m             \u001b[0mreadySig\u001b[0m \u001b[1;33m=\u001b[0m \u001b[0ms\u001b[0m\u001b[1;33m.\u001b[0m\u001b[0mread\u001b[0m\u001b[1;33m(\u001b[0m\u001b[1;36m1\u001b[0m\u001b[1;33m)\u001b[0m\u001b[1;33m[\u001b[0m\u001b[1;36m0\u001b[0m\u001b[1;33m]\u001b[0m\u001b[1;33m\u001b[0m\u001b[0m\n\u001b[0m\u001b[0;32m     79\u001b[0m             \u001b[1;32mif\u001b[0m\u001b[1;33m(\u001b[0m\u001b[0mreadySig\u001b[0m \u001b[1;33m==\u001b[0m \u001b[1;36m10\u001b[0m\u001b[1;33m)\u001b[0m\u001b[1;33m:\u001b[0m\u001b[1;33m\u001b[0m\u001b[0m\n\u001b[0;32m     80\u001b[0m                 \u001b[0mprint\u001b[0m\u001b[1;33m(\u001b[0m\u001b[0mstr\u001b[0m\u001b[1;33m(\u001b[0m\u001b[0mdatetime\u001b[0m\u001b[1;33m.\u001b[0m\u001b[0mdatetime\u001b[0m\u001b[1;33m.\u001b[0m\u001b[0mnow\u001b[0m\u001b[1;33m(\u001b[0m\u001b[1;33m)\u001b[0m\u001b[1;33m)\u001b[0m \u001b[1;33m+\u001b[0m \u001b[1;34m\" -- Starting Buffered command\"\u001b[0m\u001b[1;33m)\u001b[0m\u001b[1;33m\u001b[0m\u001b[0m\n",
      "\u001b[1;31mIndexError\u001b[0m: index out of range"
     ]
    }
   ],
   "source": [
    "h.bCommand(\"?R1\")"
   ]
  },
  {
   "cell_type": "code",
   "execution_count": 36,
   "metadata": {},
   "outputs": [
    {
     "ename": "IndexError",
     "evalue": "index out of range",
     "output_type": "error",
     "traceback": [
      "\u001b[1;31m---------------------------------------------------------------------------\u001b[0m",
      "\u001b[1;31mIndexError\u001b[0m                                Traceback (most recent call last)",
      "\u001b[1;32m<ipython-input-36-f5a0310b2505>\u001b[0m in \u001b[0;36m<module>\u001b[1;34m()\u001b[0m\n\u001b[1;32m----> 1\u001b[1;33m \u001b[0mh\u001b[0m\u001b[1;33m.\u001b[0m\u001b[0mbCommand\u001b[0m\u001b[1;33m(\u001b[0m\u001b[1;34m\"?P\"\u001b[0m\u001b[1;33m)\u001b[0m\u001b[1;33m\u001b[0m\u001b[0m\n\u001b[0m",
      "\u001b[1;32m<ipython-input-3-bef09dfe2295>\u001b[0m in \u001b[0;36mbCommand\u001b[1;34m(self, commandstring)\u001b[0m\n\u001b[0;32m     76\u001b[0m         \u001b[1;32mwhile\u001b[0m\u001b[1;33m(\u001b[0m\u001b[1;32mTrue\u001b[0m\u001b[1;33m)\u001b[0m\u001b[1;33m:\u001b[0m\u001b[1;33m\u001b[0m\u001b[0m\n\u001b[0;32m     77\u001b[0m             \u001b[0ms\u001b[0m\u001b[1;33m.\u001b[0m\u001b[0mwrite\u001b[0m\u001b[1;33m(\u001b[0m\u001b[0mdata\u001b[0m\u001b[1;33m[\u001b[0m\u001b[1;36m0\u001b[0m\u001b[1;33m:\u001b[0m\u001b[1;36m1\u001b[0m\u001b[1;33m]\u001b[0m\u001b[1;33m)\u001b[0m    \u001b[1;31m# send line feed\u001b[0m\u001b[1;33m\u001b[0m\u001b[0m\n\u001b[1;32m---> 78\u001b[1;33m             \u001b[0mreadySig\u001b[0m \u001b[1;33m=\u001b[0m \u001b[0ms\u001b[0m\u001b[1;33m.\u001b[0m\u001b[0mread\u001b[0m\u001b[1;33m(\u001b[0m\u001b[1;36m1\u001b[0m\u001b[1;33m)\u001b[0m\u001b[1;33m[\u001b[0m\u001b[1;36m0\u001b[0m\u001b[1;33m]\u001b[0m\u001b[1;33m\u001b[0m\u001b[0m\n\u001b[0m\u001b[0;32m     79\u001b[0m             \u001b[1;32mif\u001b[0m\u001b[1;33m(\u001b[0m\u001b[0mreadySig\u001b[0m \u001b[1;33m==\u001b[0m \u001b[1;36m10\u001b[0m\u001b[1;33m)\u001b[0m\u001b[1;33m:\u001b[0m\u001b[1;33m\u001b[0m\u001b[0m\n\u001b[0;32m     80\u001b[0m                 \u001b[0mprint\u001b[0m\u001b[1;33m(\u001b[0m\u001b[0mstr\u001b[0m\u001b[1;33m(\u001b[0m\u001b[0mdatetime\u001b[0m\u001b[1;33m.\u001b[0m\u001b[0mdatetime\u001b[0m\u001b[1;33m.\u001b[0m\u001b[0mnow\u001b[0m\u001b[1;33m(\u001b[0m\u001b[1;33m)\u001b[0m\u001b[1;33m)\u001b[0m \u001b[1;33m+\u001b[0m \u001b[1;34m\" -- Starting Buffered command\"\u001b[0m\u001b[1;33m)\u001b[0m\u001b[1;33m\u001b[0m\u001b[0m\n",
      "\u001b[1;31mIndexError\u001b[0m: index out of range"
     ]
    }
   ],
   "source": [
    "h.bCommand(\"?P\")"
   ]
  },
  {
   "cell_type": "code",
   "execution_count": 34,
   "metadata": {},
   "outputs": [
    {
     "name": "stdout",
     "output_type": "stream",
     "text": [
      "2017-12-06 10:35:22.175554 -- Starting Buffered command\n",
      "2017-12-06 10:35:22.205698 -- Buffered command complete\n"
     ]
    },
    {
     "data": {
      "text/plain": [
       "bytearray(b'\\n?S\\r')"
      ]
     },
     "execution_count": 34,
     "metadata": {},
     "output_type": "execute_result"
    }
   ],
   "source": [
    "h.bCommand(\"?S\")"
   ]
  },
  {
   "cell_type": "code",
   "execution_count": 369,
   "metadata": {},
   "outputs": [
    {
     "data": {
      "text/plain": [
       "'R----'"
      ]
     },
     "execution_count": 369,
     "metadata": {},
     "output_type": "execute_result"
    }
   ],
   "source": [
    "h.iCommand(\"?\")"
   ]
  },
  {
   "cell_type": "code",
   "execution_count": 334,
   "metadata": {},
   "outputs": [
    {
     "data": {
      "text/plain": [
       "'$'"
      ]
     },
     "execution_count": 334,
     "metadata": {},
     "output_type": "execute_result"
    }
   ],
   "source": [
    "h.iCommand(\"$\")"
   ]
  },
  {
   "cell_type": "code",
   "execution_count": 377,
   "metadata": {},
   "outputs": [
    {
     "name": "stdout",
     "output_type": "stream",
     "text": [
      "2017-11-29 18:17:02.829970 -- Starting Buffered command\n",
      "2017-11-29 18:17:02.880067 -- Buffered command complete\n",
      "2017-11-29 18:17:03.884001 -- Starting Buffered command\n",
      "2017-11-29 18:17:03.899628 -- Buffered command complete\n"
     ]
    },
    {
     "data": {
      "text/plain": [
       "bytearray(b'\\nK\\r')"
      ]
     },
     "execution_count": 377,
     "metadata": {},
     "output_type": "execute_result"
    }
   ],
   "source": [
    "# start pumping\n",
    "h.bCommand(\"K=e|\")\n",
    "time.sleep(1)\n",
    "h.bCommand(\"K\")"
   ]
  },
  {
   "cell_type": "code",
   "execution_count": 363,
   "metadata": {},
   "outputs": [
    {
     "name": "stdout",
     "output_type": "stream",
     "text": [
      "2017-11-29 18:07:21.011301 -- Starting Buffered command\n",
      "2017-11-29 18:07:21.059430 -- Buffered command complete\n"
     ]
    },
    {
     "data": {
      "text/plain": [
       "bytearray(b'\\nK=e|\\r')"
      ]
     },
     "execution_count": 363,
     "metadata": {},
     "output_type": "execute_result"
    }
   ],
   "source": [
    "h.bCommand(\"K=e|\")"
   ]
  },
  {
   "cell_type": "code",
   "execution_count": 374,
   "metadata": {},
   "outputs": [
    {
     "name": "stdout",
     "output_type": "stream",
     "text": [
      "2017-11-29 18:14:26.383449 -- Starting Buffered command\n",
      "2017-11-29 18:14:26.433589 -- Buffered command complete\n"
     ]
    },
    {
     "data": {
      "text/plain": [
       "bytearray(b'\\nE1=2\\r')"
      ]
     },
     "execution_count": 374,
     "metadata": {},
     "output_type": "execute_result"
    }
   ],
   "source": [
    "h.bCommand(\"E1=2\")"
   ]
  },
  {
   "cell_type": "code",
   "execution_count": 375,
   "metadata": {},
   "outputs": [
    {
     "name": "stdout",
     "output_type": "stream",
     "text": [
      "2017-11-29 18:15:57.452605 -- Starting Buffered command\n",
      "2017-11-29 18:15:57.521938 -- Buffered command complete\n"
     ]
    },
    {
     "data": {
      "text/plain": [
       "bytearray(b'\\nG,0,10\\r')"
      ]
     },
     "execution_count": 375,
     "metadata": {},
     "output_type": "execute_result"
    }
   ],
   "source": [
    "h.bCommand(\"G,0,10\")"
   ]
  },
  {
   "cell_type": "code",
   "execution_count": 378,
   "metadata": {},
   "outputs": [
    {
     "data": {
      "text/plain": [
       "'p0.0'"
      ]
     },
     "execution_count": 378,
     "metadata": {},
     "output_type": "execute_result"
    }
   ],
   "source": [
    "h.iCommand(\"Q\")"
   ]
  },
  {
   "cell_type": "code",
   "execution_count": null,
   "metadata": {
    "collapsed": true
   },
   "outputs": [],
   "source": []
  }
 ],
 "metadata": {
  "kernelspec": {
   "display_name": "Python 3",
   "language": "python",
   "name": "python3"
  },
  "language_info": {
   "codemirror_mode": {
    "name": "ipython",
    "version": 3
   },
   "file_extension": ".py",
   "mimetype": "text/x-python",
   "name": "python",
   "nbconvert_exporter": "python",
   "pygments_lexer": "ipython3",
   "version": "3.6.3"
  }
 },
 "nbformat": 4,
 "nbformat_minor": 2
}
